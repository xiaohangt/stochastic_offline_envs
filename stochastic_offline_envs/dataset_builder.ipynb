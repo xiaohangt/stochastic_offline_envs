{
 "cells": [
  {
   "cell_type": "code",
   "execution_count": null,
   "metadata": {},
   "outputs": [],
   "source": [
    "import pickle\n",
    "import numpy as np\n",
    "from copy import deepcopy\n",
    "from stochastic_offline_envs.envs.offline_envs.connect_four_offline_env import ConnectFourOfflineEnv\n",
    "from stochastic_offline_envs.samplers.trajectory_sampler import Trajectory"
   ]
  },
  {
   "cell_type": "markdown",
   "metadata": {},
   "source": [
    "#### Helper functions"
   ]
  },
  {
   "cell_type": "code",
   "execution_count": null,
   "metadata": {},
   "outputs": [],
   "source": [
    "def is_optimal_traj(traj, optimal_traj):\n",
    "    if len(traj.obs) != len(optimal_traj.obs):\n",
    "        return False\n",
    "\n",
    "    for i, ob in enumerate(traj.obs):\n",
    "        if not np.all(ob['grid'] == optimal_traj.obs[i]['grid']):\n",
    "            return False\n",
    "           \n",
    "    if traj.actions != optimal_traj.actions:\n",
    "        return False\n",
    "    \n",
    "    return True"
   ]
  },
  {
   "cell_type": "code",
   "execution_count": null,
   "metadata": {},
   "outputs": [],
   "source": [
    "def check_num_optimal(trajs, optimal_trajectory):\n",
    "    count = 0\n",
    "    cum_score = 0\n",
    "    for traj in trajs:\n",
    "        cum_score += traj.rewards[-1]\n",
    "\n",
    "        if not is_optimal_traj(traj, optimal_trajectory):\n",
    "            continue\n",
    "\n",
    "        count += 1\n",
    "    \n",
    "    return count, cum_score/len(trajs)"
   ]
  },
  {
   "cell_type": "code",
   "execution_count": null,
   "metadata": {},
   "outputs": [],
   "source": [
    "def get_optimal_traj(env, with_adv=True):\n",
    "    obs_ = []\n",
    "    actions_ = []\n",
    "    rewards_ = []\n",
    "    adv_infos_ = []\n",
    "\n",
    "    state = env.reset()\n",
    "    for _ in range(100):\n",
    "        obs_.append(deepcopy(state))\n",
    "\n",
    "        action = env.optimal_step(state)\n",
    "        actions_.append(deepcopy(action))\n",
    "\n",
    "        state, reward, done, adv_info = env.step(action)\n",
    "        adv_infos_.append(deepcopy(adv_info))\n",
    "        rewards_.append(deepcopy(reward))\n",
    "\n",
    "        if done:\n",
    "            if with_adv:\n",
    "                return Trajectory(obs=obs_, actions=actions_, rewards=rewards_, infos=adv_infos_, policy_infos=None)\n",
    "            else:\n",
    "                return Trajectory(obs=obs_, actions=actions_, rewards=rewards_, infos=None, policy_infos=None)\n",
    "\n",
    "    raise ValueError(\"No optimal trajectory found.\")"
   ]
  },
  {
   "cell_type": "code",
   "execution_count": null,
   "metadata": {},
   "outputs": [],
   "source": [
    "def inject_optimal_traj(env, trajs, with_adv=True, opt_ratio=0.5, opt_n=None):\n",
    "    new_trajs = []\n",
    "    optimal_traj = get_optimal_traj(env, with_adv=with_adv)\n",
    "    num_injection = int(len(trajs) * opt_ratio) if opt_n is None else opt_n\n",
    "\n",
    "    for traj in trajs:\n",
    "        if num_injection > 0 and not is_optimal_traj(traj, optimal_traj):\n",
    "            new_trajs.append(deepcopy(optimal_traj))\n",
    "            num_injection -= 1\n",
    "        else:\n",
    "            new_trajs.append(traj)\n",
    "\n",
    "    return new_trajs"
   ]
  },
  {
   "cell_type": "markdown",
   "metadata": {},
   "source": [
    "#### Dataset stats (commented out)"
   ]
  },
  {
   "cell_type": "code",
   "execution_count": null,
   "metadata": {},
   "outputs": [],
   "source": [
    "# optimal_traj = None\n",
    "# results_dict = {}\n",
    "\n",
    "# for learner_prob in [\"50\", \"45\", \"40\", \"35\", \"30\", \"25\", \"20\", \"15\", \"10\", \"5\", \"1\", \"0\"]:\n",
    "#     for adv_prob in [\"50\", \"45\", \"40\", \"35\", \"30\", \"25\", \"20\", \"15\", \"10\", \"5\", \"1\", \"0\"]:\n",
    "#         count = 0\n",
    "#         d_name = f\"c4data_mdp_{learner_prob}_mdp_{adv_prob}\"\n",
    "#         task = ConnectFourOfflineEnv(test_regen_prob=0.0, data_name=d_name)\n",
    "#         env = task.test_env_cls()\n",
    "\n",
    "#         if not optimal_traj:\n",
    "#             optimal_traj = get_optimal_traj(env)\n",
    "\n",
    "#         results_dict[f\"{learner_prob}_{adv_prob}\"] = check_num_optimal(task.trajs, optimal_traj)\n",
    "\n",
    "# for k, v in results_dict.items():\n",
    "#     print(f\"{k}: {v}\")"
   ]
  },
  {
   "cell_type": "markdown",
   "metadata": {},
   "source": [
    "#### Build datasets"
   ]
  },
  {
   "cell_type": "code",
   "execution_count": null,
   "metadata": {},
   "outputs": [],
   "source": [
    "base_dataset = 'mdp_35_mdp_30'\n",
    "with_adv = True\n",
    "n_opt_trajectories = [\n",
    "    0, 1, 5, 10, 20, 50, 100, 200, 500, 1000, 2000, 4000\n",
    "]"
   ]
  },
  {
   "cell_type": "code",
   "execution_count": null,
   "metadata": {},
   "outputs": [],
   "source": [
    "task = ConnectFourOfflineEnv(test_regen_prob=0.0, data_name='c4data_' + base_dataset)\n",
    "env = task.test_env_cls()\n",
    "optimal_traj = get_optimal_traj(env, with_adv=with_adv)\n",
    "print(f\"Dataset stats: {check_num_optimal(task.trajs, optimal_traj)}\")\n",
    "print(f\"{check_num_optimal(task.trajs, optimal_traj)[0]} out of {len(task.trajs)} trajectories are optimal.\")\n",
    "print(\"===============================\")\n",
    "\n",
    "for opt_n in n_opt_trajectories:\n",
    "    revised_trajs = inject_optimal_traj(env, task.trajs, with_adv=with_adv, opt_n=opt_n)\n",
    "    print(f\"Dataset stats with opt_n {opt_n}: {check_num_optimal(revised_trajs, optimal_traj)}\")\n",
    "    print(f\"{check_num_optimal(revised_trajs, optimal_traj)[0]} out of {len(revised_trajs)} trajectories are optimal.\")\n",
    "\n",
    "    for traj in revised_trajs:\n",
    "        assert isinstance(traj.obs, list)\n",
    "        assert np.all(['grid' in e for e in traj.obs])\n",
    "        assert np.all(['move_str' in e for e in traj.obs])\n",
    "        \n",
    "    pickle.dump(revised_trajs, open(f'../offline_data_modified/c4data_{opt_n}_{base_dataset}.ds', 'wb'))"
   ]
  }
 ],
 "metadata": {
  "kernelspec": {
   "display_name": "new-adt",
   "language": "python",
   "name": "python3"
  },
  "language_info": {
   "codemirror_mode": {
    "name": "ipython",
    "version": 3
   },
   "file_extension": ".py",
   "mimetype": "text/x-python",
   "name": "python",
   "nbconvert_exporter": "python",
   "pygments_lexer": "ipython3",
   "version": "3.10.13"
  }
 },
 "nbformat": 4,
 "nbformat_minor": 2
}
